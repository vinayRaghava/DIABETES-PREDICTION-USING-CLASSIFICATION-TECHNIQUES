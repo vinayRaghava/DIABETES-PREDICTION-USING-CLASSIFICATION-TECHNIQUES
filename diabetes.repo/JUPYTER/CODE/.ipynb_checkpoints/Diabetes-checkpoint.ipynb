{
 "cells": [
  {
   "cell_type": "code",
   "execution_count": 1,
   "id": "a3a518d6",
   "metadata": {},
   "outputs": [],
   "source": [
    "import numpy as np\n",
    "import pandas as pd\n",
    "from sklearn.preprocessing import LabelEncoder\n",
    "le = LabelEncoder()"
   ]
  },
  {
   "cell_type": "code",
   "execution_count": 2,
   "id": "76d015af",
   "metadata": {},
   "outputs": [
    {
     "data": {
      "text/html": [
       "<div>\n",
       "<style scoped>\n",
       "    .dataframe tbody tr th:only-of-type {\n",
       "        vertical-align: middle;\n",
       "    }\n",
       "\n",
       "    .dataframe tbody tr th {\n",
       "        vertical-align: top;\n",
       "    }\n",
       "\n",
       "    .dataframe thead th {\n",
       "        text-align: right;\n",
       "    }\n",
       "</style>\n",
       "<table border=\"1\" class=\"dataframe\">\n",
       "  <thead>\n",
       "    <tr style=\"text-align: right;\">\n",
       "      <th></th>\n",
       "      <th>Age</th>\n",
       "      <th>Gender</th>\n",
       "      <th>Polyuria</th>\n",
       "      <th>Polydipsia</th>\n",
       "      <th>sudden weight loss</th>\n",
       "      <th>weakness</th>\n",
       "      <th>Polyphagia</th>\n",
       "      <th>Genital thrush</th>\n",
       "      <th>visual blurring</th>\n",
       "      <th>Itching</th>\n",
       "      <th>Irritability</th>\n",
       "      <th>delayed healing</th>\n",
       "      <th>partial paresis</th>\n",
       "      <th>muscle stiffness</th>\n",
       "      <th>Alopecia</th>\n",
       "      <th>Obesity</th>\n",
       "      <th>class</th>\n",
       "    </tr>\n",
       "  </thead>\n",
       "  <tbody>\n",
       "    <tr>\n",
       "      <th>0</th>\n",
       "      <td>40</td>\n",
       "      <td>Male</td>\n",
       "      <td>No</td>\n",
       "      <td>Yes</td>\n",
       "      <td>No</td>\n",
       "      <td>Yes</td>\n",
       "      <td>No</td>\n",
       "      <td>No</td>\n",
       "      <td>No</td>\n",
       "      <td>Yes</td>\n",
       "      <td>No</td>\n",
       "      <td>Yes</td>\n",
       "      <td>No</td>\n",
       "      <td>Yes</td>\n",
       "      <td>Yes</td>\n",
       "      <td>Yes</td>\n",
       "      <td>Positive</td>\n",
       "    </tr>\n",
       "    <tr>\n",
       "      <th>1</th>\n",
       "      <td>58</td>\n",
       "      <td>Male</td>\n",
       "      <td>No</td>\n",
       "      <td>No</td>\n",
       "      <td>No</td>\n",
       "      <td>Yes</td>\n",
       "      <td>No</td>\n",
       "      <td>No</td>\n",
       "      <td>Yes</td>\n",
       "      <td>No</td>\n",
       "      <td>No</td>\n",
       "      <td>No</td>\n",
       "      <td>Yes</td>\n",
       "      <td>No</td>\n",
       "      <td>Yes</td>\n",
       "      <td>No</td>\n",
       "      <td>Positive</td>\n",
       "    </tr>\n",
       "    <tr>\n",
       "      <th>2</th>\n",
       "      <td>41</td>\n",
       "      <td>Male</td>\n",
       "      <td>Yes</td>\n",
       "      <td>No</td>\n",
       "      <td>No</td>\n",
       "      <td>Yes</td>\n",
       "      <td>Yes</td>\n",
       "      <td>No</td>\n",
       "      <td>No</td>\n",
       "      <td>Yes</td>\n",
       "      <td>No</td>\n",
       "      <td>Yes</td>\n",
       "      <td>No</td>\n",
       "      <td>Yes</td>\n",
       "      <td>Yes</td>\n",
       "      <td>No</td>\n",
       "      <td>Positive</td>\n",
       "    </tr>\n",
       "    <tr>\n",
       "      <th>3</th>\n",
       "      <td>45</td>\n",
       "      <td>Male</td>\n",
       "      <td>No</td>\n",
       "      <td>No</td>\n",
       "      <td>Yes</td>\n",
       "      <td>Yes</td>\n",
       "      <td>Yes</td>\n",
       "      <td>Yes</td>\n",
       "      <td>No</td>\n",
       "      <td>Yes</td>\n",
       "      <td>No</td>\n",
       "      <td>Yes</td>\n",
       "      <td>No</td>\n",
       "      <td>No</td>\n",
       "      <td>No</td>\n",
       "      <td>No</td>\n",
       "      <td>Positive</td>\n",
       "    </tr>\n",
       "    <tr>\n",
       "      <th>4</th>\n",
       "      <td>60</td>\n",
       "      <td>Male</td>\n",
       "      <td>Yes</td>\n",
       "      <td>Yes</td>\n",
       "      <td>Yes</td>\n",
       "      <td>Yes</td>\n",
       "      <td>Yes</td>\n",
       "      <td>No</td>\n",
       "      <td>Yes</td>\n",
       "      <td>Yes</td>\n",
       "      <td>Yes</td>\n",
       "      <td>Yes</td>\n",
       "      <td>Yes</td>\n",
       "      <td>Yes</td>\n",
       "      <td>Yes</td>\n",
       "      <td>Yes</td>\n",
       "      <td>Positive</td>\n",
       "    </tr>\n",
       "  </tbody>\n",
       "</table>\n",
       "</div>"
      ],
      "text/plain": [
       "   Age Gender Polyuria Polydipsia sudden weight loss weakness Polyphagia  \\\n",
       "0   40   Male       No        Yes                 No      Yes         No   \n",
       "1   58   Male       No         No                 No      Yes         No   \n",
       "2   41   Male      Yes         No                 No      Yes        Yes   \n",
       "3   45   Male       No         No                Yes      Yes        Yes   \n",
       "4   60   Male      Yes        Yes                Yes      Yes        Yes   \n",
       "\n",
       "  Genital thrush visual blurring Itching Irritability delayed healing  \\\n",
       "0             No              No     Yes           No             Yes   \n",
       "1             No             Yes      No           No              No   \n",
       "2             No              No     Yes           No             Yes   \n",
       "3            Yes              No     Yes           No             Yes   \n",
       "4             No             Yes     Yes          Yes             Yes   \n",
       "\n",
       "  partial paresis muscle stiffness Alopecia Obesity     class  \n",
       "0              No              Yes      Yes     Yes  Positive  \n",
       "1             Yes               No      Yes      No  Positive  \n",
       "2              No              Yes      Yes      No  Positive  \n",
       "3              No               No       No      No  Positive  \n",
       "4             Yes              Yes      Yes     Yes  Positive  "
      ]
     },
     "execution_count": 2,
     "metadata": {},
     "output_type": "execute_result"
    }
   ],
   "source": [
    "df =pd.read_csv(r'C:\\Users\\YMTS0519\\Documents\\MAY-2022\\DIABETES PREDICTION\\JUPYTER\\Diabetes.csv')\n",
    "df.head()"
   ]
  },
  {
   "cell_type": "code",
   "execution_count": 3,
   "id": "f555bac5",
   "metadata": {},
   "outputs": [
    {
     "name": "stdout",
     "output_type": "stream",
     "text": [
      "<class 'pandas.core.frame.DataFrame'>\n",
      "RangeIndex: 520 entries, 0 to 519\n",
      "Data columns (total 17 columns):\n",
      " #   Column              Non-Null Count  Dtype \n",
      "---  ------              --------------  ----- \n",
      " 0   Age                 520 non-null    int64 \n",
      " 1   Gender              520 non-null    object\n",
      " 2   Polyuria            520 non-null    object\n",
      " 3   Polydipsia          520 non-null    object\n",
      " 4   sudden weight loss  520 non-null    object\n",
      " 5   weakness            520 non-null    object\n",
      " 6   Polyphagia          520 non-null    object\n",
      " 7   Genital thrush      520 non-null    object\n",
      " 8   visual blurring     520 non-null    object\n",
      " 9   Itching             520 non-null    object\n",
      " 10  Irritability        520 non-null    object\n",
      " 11  delayed healing     520 non-null    object\n",
      " 12  partial paresis     520 non-null    object\n",
      " 13  muscle stiffness    520 non-null    object\n",
      " 14  Alopecia            520 non-null    object\n",
      " 15  Obesity             520 non-null    object\n",
      " 16  class               520 non-null    object\n",
      "dtypes: int64(1), object(16)\n",
      "memory usage: 69.2+ KB\n"
     ]
    }
   ],
   "source": [
    "df.info()"
   ]
  },
  {
   "cell_type": "code",
   "execution_count": 4,
   "id": "70f9938c",
   "metadata": {},
   "outputs": [
    {
     "data": {
      "text/plain": [
       "(520, 17)"
      ]
     },
     "execution_count": 4,
     "metadata": {},
     "output_type": "execute_result"
    }
   ],
   "source": [
    "df.shape"
   ]
  },
  {
   "cell_type": "code",
   "execution_count": 5,
   "id": "9ab1f09f",
   "metadata": {},
   "outputs": [
    {
     "data": {
      "text/plain": [
       "Positive    320\n",
       "Negative    200\n",
       "Name: class, dtype: int64"
      ]
     },
     "execution_count": 5,
     "metadata": {},
     "output_type": "execute_result"
    }
   ],
   "source": [
    "df['class'].value_counts()"
   ]
  },
  {
   "cell_type": "code",
   "execution_count": 6,
   "id": "b5bba2ae",
   "metadata": {},
   "outputs": [],
   "source": [
    "from sklearn.preprocessing import LabelEncoder\n",
    "le = LabelEncoder()"
   ]
  },
  {
   "cell_type": "code",
   "execution_count": 7,
   "id": "da27a2b2",
   "metadata": {},
   "outputs": [
    {
     "data": {
      "text/plain": [
       "Index(['Age', 'Gender', 'Polyuria', 'Polydipsia', 'sudden weight loss',\n",
       "       'weakness', 'Polyphagia', 'Genital thrush', 'visual blurring',\n",
       "       'Itching', 'Irritability', 'delayed healing', 'partial paresis',\n",
       "       'muscle stiffness', 'Alopecia', 'Obesity', 'class'],\n",
       "      dtype='object')"
      ]
     },
     "execution_count": 7,
     "metadata": {},
     "output_type": "execute_result"
    }
   ],
   "source": [
    "df.columns"
   ]
  },
  {
   "cell_type": "code",
   "execution_count": 8,
   "id": "c300d47d",
   "metadata": {},
   "outputs": [],
   "source": [
    "df['Gender']= le.fit_transform(df['Gender'])\n",
    "df['Polyuria']= le.fit_transform(df['Polyuria'])\n",
    "df['Polydipsia']= le.fit_transform(df['Polydipsia'])\n",
    "df['sudden weight loss']= le.fit_transform(df['sudden weight loss'])\n",
    "df['weakness']= le.fit_transform(df['weakness'])\n",
    "df['Polyphagia']= le.fit_transform(df['Polyphagia'])\n",
    "df['Genital thrush']= le.fit_transform(df['Genital thrush'])\n",
    "df['visual blurring']= le.fit_transform(df['visual blurring'])\n",
    "df['Itching']= le.fit_transform(df['Itching'])\n",
    "df['Irritability']= le.fit_transform(df['Irritability'])\n",
    "df['delayed healing']= le.fit_transform(df['delayed healing'])\n",
    "df['partial paresis']= le.fit_transform(df['partial paresis'])\n",
    "df['muscle stiffness']= le.fit_transform(df['muscle stiffness'])\n",
    "df['Alopecia']= le.fit_transform(df['Alopecia'])\n",
    "df['Obesity']= le.fit_transform(df['Obesity'])\n",
    "df['class']= le.fit_transform(df['class'])"
   ]
  },
  {
   "cell_type": "code",
   "execution_count": 9,
   "id": "25400144",
   "metadata": {},
   "outputs": [
    {
     "data": {
      "text/html": [
       "<div>\n",
       "<style scoped>\n",
       "    .dataframe tbody tr th:only-of-type {\n",
       "        vertical-align: middle;\n",
       "    }\n",
       "\n",
       "    .dataframe tbody tr th {\n",
       "        vertical-align: top;\n",
       "    }\n",
       "\n",
       "    .dataframe thead th {\n",
       "        text-align: right;\n",
       "    }\n",
       "</style>\n",
       "<table border=\"1\" class=\"dataframe\">\n",
       "  <thead>\n",
       "    <tr style=\"text-align: right;\">\n",
       "      <th></th>\n",
       "      <th>Age</th>\n",
       "      <th>Gender</th>\n",
       "      <th>Polyuria</th>\n",
       "      <th>Polydipsia</th>\n",
       "      <th>sudden weight loss</th>\n",
       "      <th>weakness</th>\n",
       "      <th>Polyphagia</th>\n",
       "      <th>Genital thrush</th>\n",
       "      <th>visual blurring</th>\n",
       "      <th>Itching</th>\n",
       "      <th>Irritability</th>\n",
       "      <th>delayed healing</th>\n",
       "      <th>partial paresis</th>\n",
       "      <th>muscle stiffness</th>\n",
       "      <th>Alopecia</th>\n",
       "      <th>Obesity</th>\n",
       "      <th>class</th>\n",
       "    </tr>\n",
       "  </thead>\n",
       "  <tbody>\n",
       "    <tr>\n",
       "      <th>0</th>\n",
       "      <td>40</td>\n",
       "      <td>1</td>\n",
       "      <td>0</td>\n",
       "      <td>1</td>\n",
       "      <td>0</td>\n",
       "      <td>1</td>\n",
       "      <td>0</td>\n",
       "      <td>0</td>\n",
       "      <td>0</td>\n",
       "      <td>1</td>\n",
       "      <td>0</td>\n",
       "      <td>1</td>\n",
       "      <td>0</td>\n",
       "      <td>1</td>\n",
       "      <td>1</td>\n",
       "      <td>1</td>\n",
       "      <td>1</td>\n",
       "    </tr>\n",
       "    <tr>\n",
       "      <th>1</th>\n",
       "      <td>58</td>\n",
       "      <td>1</td>\n",
       "      <td>0</td>\n",
       "      <td>0</td>\n",
       "      <td>0</td>\n",
       "      <td>1</td>\n",
       "      <td>0</td>\n",
       "      <td>0</td>\n",
       "      <td>1</td>\n",
       "      <td>0</td>\n",
       "      <td>0</td>\n",
       "      <td>0</td>\n",
       "      <td>1</td>\n",
       "      <td>0</td>\n",
       "      <td>1</td>\n",
       "      <td>0</td>\n",
       "      <td>1</td>\n",
       "    </tr>\n",
       "    <tr>\n",
       "      <th>2</th>\n",
       "      <td>41</td>\n",
       "      <td>1</td>\n",
       "      <td>1</td>\n",
       "      <td>0</td>\n",
       "      <td>0</td>\n",
       "      <td>1</td>\n",
       "      <td>1</td>\n",
       "      <td>0</td>\n",
       "      <td>0</td>\n",
       "      <td>1</td>\n",
       "      <td>0</td>\n",
       "      <td>1</td>\n",
       "      <td>0</td>\n",
       "      <td>1</td>\n",
       "      <td>1</td>\n",
       "      <td>0</td>\n",
       "      <td>1</td>\n",
       "    </tr>\n",
       "    <tr>\n",
       "      <th>3</th>\n",
       "      <td>45</td>\n",
       "      <td>1</td>\n",
       "      <td>0</td>\n",
       "      <td>0</td>\n",
       "      <td>1</td>\n",
       "      <td>1</td>\n",
       "      <td>1</td>\n",
       "      <td>1</td>\n",
       "      <td>0</td>\n",
       "      <td>1</td>\n",
       "      <td>0</td>\n",
       "      <td>1</td>\n",
       "      <td>0</td>\n",
       "      <td>0</td>\n",
       "      <td>0</td>\n",
       "      <td>0</td>\n",
       "      <td>1</td>\n",
       "    </tr>\n",
       "    <tr>\n",
       "      <th>4</th>\n",
       "      <td>60</td>\n",
       "      <td>1</td>\n",
       "      <td>1</td>\n",
       "      <td>1</td>\n",
       "      <td>1</td>\n",
       "      <td>1</td>\n",
       "      <td>1</td>\n",
       "      <td>0</td>\n",
       "      <td>1</td>\n",
       "      <td>1</td>\n",
       "      <td>1</td>\n",
       "      <td>1</td>\n",
       "      <td>1</td>\n",
       "      <td>1</td>\n",
       "      <td>1</td>\n",
       "      <td>1</td>\n",
       "      <td>1</td>\n",
       "    </tr>\n",
       "  </tbody>\n",
       "</table>\n",
       "</div>"
      ],
      "text/plain": [
       "   Age  Gender  Polyuria  Polydipsia  sudden weight loss  weakness  \\\n",
       "0   40       1         0           1                   0         1   \n",
       "1   58       1         0           0                   0         1   \n",
       "2   41       1         1           0                   0         1   \n",
       "3   45       1         0           0                   1         1   \n",
       "4   60       1         1           1                   1         1   \n",
       "\n",
       "   Polyphagia  Genital thrush  visual blurring  Itching  Irritability  \\\n",
       "0           0               0                0        1             0   \n",
       "1           0               0                1        0             0   \n",
       "2           1               0                0        1             0   \n",
       "3           1               1                0        1             0   \n",
       "4           1               0                1        1             1   \n",
       "\n",
       "   delayed healing  partial paresis  muscle stiffness  Alopecia  Obesity  \\\n",
       "0                1                0                 1         1        1   \n",
       "1                0                1                 0         1        0   \n",
       "2                1                0                 1         1        0   \n",
       "3                1                0                 0         0        0   \n",
       "4                1                1                 1         1        1   \n",
       "\n",
       "   class  \n",
       "0      1  \n",
       "1      1  \n",
       "2      1  \n",
       "3      1  \n",
       "4      1  "
      ]
     },
     "execution_count": 9,
     "metadata": {},
     "output_type": "execute_result"
    }
   ],
   "source": [
    "df.head()"
   ]
  },
  {
   "cell_type": "code",
   "execution_count": 10,
   "id": "c04dbe74",
   "metadata": {},
   "outputs": [],
   "source": [
    "#XG boost, ANN, ADABOOSTIN, KNN, SVM, Decision Tree"
   ]
  },
  {
   "cell_type": "code",
   "execution_count": 11,
   "id": "4c232d3f",
   "metadata": {},
   "outputs": [
    {
     "data": {
      "text/plain": [
       "0      1\n",
       "1      1\n",
       "2      1\n",
       "3      1\n",
       "4      1\n",
       "      ..\n",
       "515    1\n",
       "516    1\n",
       "517    1\n",
       "518    0\n",
       "519    0\n",
       "Name: class, Length: 520, dtype: int32"
      ]
     },
     "execution_count": 11,
     "metadata": {},
     "output_type": "execute_result"
    }
   ],
   "source": [
    "df.iloc[::,-1]"
   ]
  },
  {
   "cell_type": "code",
   "execution_count": 12,
   "id": "e65eeb2c",
   "metadata": {},
   "outputs": [],
   "source": [
    "x= df.iloc[:,:-1]\n",
    "y= df['class'] "
   ]
  },
  {
   "cell_type": "code",
   "execution_count": 13,
   "id": "f053d6cb",
   "metadata": {},
   "outputs": [
    {
     "data": {
      "text/html": [
       "<div>\n",
       "<style scoped>\n",
       "    .dataframe tbody tr th:only-of-type {\n",
       "        vertical-align: middle;\n",
       "    }\n",
       "\n",
       "    .dataframe tbody tr th {\n",
       "        vertical-align: top;\n",
       "    }\n",
       "\n",
       "    .dataframe thead th {\n",
       "        text-align: right;\n",
       "    }\n",
       "</style>\n",
       "<table border=\"1\" class=\"dataframe\">\n",
       "  <thead>\n",
       "    <tr style=\"text-align: right;\">\n",
       "      <th></th>\n",
       "      <th>class</th>\n",
       "    </tr>\n",
       "  </thead>\n",
       "  <tbody>\n",
       "    <tr>\n",
       "      <th>0</th>\n",
       "      <td>1</td>\n",
       "    </tr>\n",
       "    <tr>\n",
       "      <th>1</th>\n",
       "      <td>1</td>\n",
       "    </tr>\n",
       "    <tr>\n",
       "      <th>2</th>\n",
       "      <td>1</td>\n",
       "    </tr>\n",
       "    <tr>\n",
       "      <th>3</th>\n",
       "      <td>1</td>\n",
       "    </tr>\n",
       "    <tr>\n",
       "      <th>4</th>\n",
       "      <td>1</td>\n",
       "    </tr>\n",
       "    <tr>\n",
       "      <th>...</th>\n",
       "      <td>...</td>\n",
       "    </tr>\n",
       "    <tr>\n",
       "      <th>515</th>\n",
       "      <td>1</td>\n",
       "    </tr>\n",
       "    <tr>\n",
       "      <th>516</th>\n",
       "      <td>1</td>\n",
       "    </tr>\n",
       "    <tr>\n",
       "      <th>517</th>\n",
       "      <td>1</td>\n",
       "    </tr>\n",
       "    <tr>\n",
       "      <th>518</th>\n",
       "      <td>0</td>\n",
       "    </tr>\n",
       "    <tr>\n",
       "      <th>519</th>\n",
       "      <td>0</td>\n",
       "    </tr>\n",
       "  </tbody>\n",
       "</table>\n",
       "<p>520 rows × 1 columns</p>\n",
       "</div>"
      ],
      "text/plain": [
       "     class\n",
       "0        1\n",
       "1        1\n",
       "2        1\n",
       "3        1\n",
       "4        1\n",
       "..     ...\n",
       "515      1\n",
       "516      1\n",
       "517      1\n",
       "518      0\n",
       "519      0\n",
       "\n",
       "[520 rows x 1 columns]"
      ]
     },
     "execution_count": 13,
     "metadata": {},
     "output_type": "execute_result"
    }
   ],
   "source": [
    "df.iloc[:,-1:]"
   ]
  },
  {
   "cell_type": "code",
   "execution_count": 14,
   "id": "22ae9143",
   "metadata": {},
   "outputs": [],
   "source": [
    "from sklearn.model_selection import train_test_split\n",
    "x_train, x_test, y_train, y_test = train_test_split(x, y, test_size=0.3, random_state=42)"
   ]
  },
  {
   "cell_type": "code",
   "execution_count": 15,
   "id": "3f762647",
   "metadata": {},
   "outputs": [
    {
     "data": {
      "text/plain": [
       "(364, 16)"
      ]
     },
     "execution_count": 15,
     "metadata": {},
     "output_type": "execute_result"
    }
   ],
   "source": [
    "x_train.shape"
   ]
  },
  {
   "cell_type": "code",
   "execution_count": 16,
   "id": "a86c0aa3",
   "metadata": {},
   "outputs": [],
   "source": [
    "import pickle\n",
    "from keras.models import Sequential\n",
    "from keras.layers import Dense\n",
    "import xgboost as xgb\n",
    "from xgboost import XGBClassifier\n",
    "from sklearn.ensemble import AdaBoostClassifier\n",
    "from sklearn.neighbors import KNeighborsClassifier\n",
    "from sklearn.svm import SVC\n",
    "from sklearn.tree import DecisionTreeClassifier\n",
    "from sklearn.metrics import accuracy_score\n",
    "from sklearn.metrics import classification_report"
   ]
  },
  {
   "cell_type": "markdown",
   "id": "14b03b6c",
   "metadata": {},
   "source": [
    "### XGBoost"
   ]
  },
  {
   "cell_type": "code",
   "execution_count": 17,
   "id": "4b55e8d4",
   "metadata": {},
   "outputs": [
    {
     "name": "stdout",
     "output_type": "stream",
     "text": [
      "[16:49:43] WARNING: C:/Users/Administrator/workspace/xgboost-win64_release_1.4.0/src/learner.cc:1095: Starting in XGBoost 1.3.0, the default evaluation metric used with the objective 'binary:logistic' was changed from 'error' to 'logloss'. Explicitly set eval_metric if you'd like to restore the old behavior.\n"
     ]
    },
    {
     "name": "stderr",
     "output_type": "stream",
     "text": [
      "C:\\Program Files\\Python36\\lib\\site-packages\\xgboost\\sklearn.py:1146: UserWarning: The use of label encoder in XGBClassifier is deprecated and will be removed in a future release. To remove this warning, do the following: 1) Pass option use_label_encoder=False when constructing XGBClassifier object; and 2) Encode your labels (y) as integers starting with 0, i.e. 0, 1, 2, ..., [num_class - 1].\n",
      "  warnings.warn(label_encoder_deprecation_msg, UserWarning)\n"
     ]
    },
    {
     "data": {
      "text/plain": [
       "XGBClassifier(base_score=0.5, booster='gbtree', colsample_bylevel=1,\n",
       "              colsample_bynode=1, colsample_bytree=1, gamma=0, gpu_id=-1,\n",
       "              importance_type='gain', interaction_constraints='',\n",
       "              learning_rate=0.300000012, max_delta_step=0, max_depth=6,\n",
       "              min_child_weight=1, missing=nan, monotone_constraints='()',\n",
       "              n_estimators=100, n_jobs=4, num_parallel_tree=1, random_state=0,\n",
       "              reg_alpha=0, reg_lambda=1, scale_pos_weight=1, subsample=1,\n",
       "              tree_method='exact', validate_parameters=1, verbosity=None)"
      ]
     },
     "execution_count": 17,
     "metadata": {},
     "output_type": "execute_result"
    }
   ],
   "source": [
    "xgb = XGBClassifier()\n",
    "xgb.fit(x_train, y_train)"
   ]
  },
  {
   "cell_type": "code",
   "execution_count": 18,
   "id": "15029ce1",
   "metadata": {},
   "outputs": [],
   "source": [
    "pred = xgb.predict(x_test)"
   ]
  },
  {
   "cell_type": "code",
   "execution_count": 19,
   "id": "3d6582eb",
   "metadata": {},
   "outputs": [
    {
     "name": "stdout",
     "output_type": "stream",
     "text": [
      "0.9871794871794872\n"
     ]
    }
   ],
   "source": [
    "print(accuracy_score(pred, y_test))"
   ]
  },
  {
   "cell_type": "code",
   "execution_count": 20,
   "id": "e16fc247",
   "metadata": {},
   "outputs": [
    {
     "name": "stdout",
     "output_type": "stream",
     "text": [
      "              precision    recall  f1-score   support\n",
      "\n",
      "           0       1.00      0.96      0.98        56\n",
      "           1       0.98      1.00      0.99       100\n",
      "\n",
      "    accuracy                           0.99       156\n",
      "   macro avg       0.99      0.98      0.99       156\n",
      "weighted avg       0.99      0.99      0.99       156\n",
      "\n"
     ]
    }
   ],
   "source": [
    "print(classification_report(pred, y_test))"
   ]
  },
  {
   "cell_type": "code",
   "execution_count": null,
   "id": "a231be47",
   "metadata": {},
   "outputs": [],
   "source": []
  },
  {
   "cell_type": "markdown",
   "id": "7066b697",
   "metadata": {},
   "source": [
    "### KNeighbors"
   ]
  },
  {
   "cell_type": "code",
   "execution_count": 21,
   "id": "61de47ee",
   "metadata": {},
   "outputs": [],
   "source": [
    "knn= KNeighborsClassifier()"
   ]
  },
  {
   "cell_type": "code",
   "execution_count": 22,
   "id": "65cb1a67",
   "metadata": {},
   "outputs": [
    {
     "data": {
      "text/plain": [
       "KNeighborsClassifier()"
      ]
     },
     "execution_count": 22,
     "metadata": {},
     "output_type": "execute_result"
    }
   ],
   "source": [
    "knn.fit(x_train, y_train)"
   ]
  },
  {
   "cell_type": "code",
   "execution_count": 23,
   "id": "991b81c1",
   "metadata": {},
   "outputs": [],
   "source": [
    "pred= knn.predict(x_test)"
   ]
  },
  {
   "cell_type": "code",
   "execution_count": 24,
   "id": "5c415e95",
   "metadata": {},
   "outputs": [
    {
     "name": "stdout",
     "output_type": "stream",
     "text": [
      "0.8589743589743589\n"
     ]
    }
   ],
   "source": [
    "print(accuracy_score(pred, y_test))"
   ]
  },
  {
   "cell_type": "code",
   "execution_count": 25,
   "id": "2658aae3",
   "metadata": {},
   "outputs": [
    {
     "name": "stdout",
     "output_type": "stream",
     "text": [
      "              precision    recall  f1-score   support\n",
      "\n",
      "           0       0.94      0.73      0.82        70\n",
      "           1       0.81      0.97      0.88        86\n",
      "\n",
      "    accuracy                           0.86       156\n",
      "   macro avg       0.88      0.85      0.85       156\n",
      "weighted avg       0.87      0.86      0.86       156\n",
      "\n"
     ]
    }
   ],
   "source": [
    "print(classification_report(pred, y_test))"
   ]
  },
  {
   "cell_type": "markdown",
   "id": "108de249",
   "metadata": {},
   "source": [
    "### Support Vector Machine"
   ]
  },
  {
   "cell_type": "code",
   "execution_count": 26,
   "id": "ed07923c",
   "metadata": {},
   "outputs": [],
   "source": [
    "svm= SVC(kernel='linear')"
   ]
  },
  {
   "cell_type": "code",
   "execution_count": 27,
   "id": "30f9c31c",
   "metadata": {},
   "outputs": [
    {
     "data": {
      "text/plain": [
       "SVC(kernel='linear')"
      ]
     },
     "execution_count": 27,
     "metadata": {},
     "output_type": "execute_result"
    }
   ],
   "source": [
    "svm.fit(x_train, y_train)"
   ]
  },
  {
   "cell_type": "code",
   "execution_count": 28,
   "id": "69a2ef53",
   "metadata": {},
   "outputs": [],
   "source": [
    "pred= svm.predict(x_test)"
   ]
  },
  {
   "cell_type": "code",
   "execution_count": 29,
   "id": "aae8312a",
   "metadata": {},
   "outputs": [
    {
     "name": "stdout",
     "output_type": "stream",
     "text": [
      "0.9358974358974359\n"
     ]
    }
   ],
   "source": [
    "print(accuracy_score(pred, y_test))"
   ]
  },
  {
   "cell_type": "code",
   "execution_count": 30,
   "id": "b4e384f1",
   "metadata": {},
   "outputs": [
    {
     "name": "stdout",
     "output_type": "stream",
     "text": [
      "              precision    recall  f1-score   support\n",
      "\n",
      "           0       0.91      0.91      0.91        54\n",
      "           1       0.95      0.95      0.95       102\n",
      "\n",
      "    accuracy                           0.94       156\n",
      "   macro avg       0.93      0.93      0.93       156\n",
      "weighted avg       0.94      0.94      0.94       156\n",
      "\n"
     ]
    }
   ],
   "source": [
    "print(classification_report(pred, y_test))"
   ]
  },
  {
   "cell_type": "markdown",
   "id": "17e2eabb",
   "metadata": {},
   "source": [
    "### Decision Tree"
   ]
  },
  {
   "cell_type": "code",
   "execution_count": 31,
   "id": "5edb0bab",
   "metadata": {},
   "outputs": [],
   "source": [
    "dt= DecisionTreeClassifier()"
   ]
  },
  {
   "cell_type": "code",
   "execution_count": 32,
   "id": "ebea3fc2",
   "metadata": {},
   "outputs": [
    {
     "data": {
      "text/plain": [
       "DecisionTreeClassifier()"
      ]
     },
     "execution_count": 32,
     "metadata": {},
     "output_type": "execute_result"
    }
   ],
   "source": [
    "dt.fit(x_train,y_train)"
   ]
  },
  {
   "cell_type": "code",
   "execution_count": 33,
   "id": "ac049317",
   "metadata": {},
   "outputs": [],
   "source": [
    "pred= dt.predict(x_test)"
   ]
  },
  {
   "cell_type": "code",
   "execution_count": 34,
   "id": "2e855a02",
   "metadata": {},
   "outputs": [
    {
     "name": "stdout",
     "output_type": "stream",
     "text": [
      "0.9487179487179487\n"
     ]
    }
   ],
   "source": [
    "print(accuracy_score(pred, y_test))"
   ]
  },
  {
   "cell_type": "code",
   "execution_count": 35,
   "id": "4c965756",
   "metadata": {},
   "outputs": [
    {
     "name": "stdout",
     "output_type": "stream",
     "text": [
      "              precision    recall  f1-score   support\n",
      "\n",
      "           0       0.96      0.90      0.93        58\n",
      "           1       0.94      0.98      0.96        98\n",
      "\n",
      "    accuracy                           0.95       156\n",
      "   macro avg       0.95      0.94      0.94       156\n",
      "weighted avg       0.95      0.95      0.95       156\n",
      "\n"
     ]
    }
   ],
   "source": [
    "print(classification_report(pred, y_test))"
   ]
  },
  {
   "cell_type": "markdown",
   "id": "b8f7842a",
   "metadata": {},
   "source": [
    "### AdaBoost"
   ]
  },
  {
   "cell_type": "code",
   "execution_count": 36,
   "id": "94846383",
   "metadata": {},
   "outputs": [],
   "source": [
    "abc=  AdaBoostClassifier(base_estimator=dt,\n",
    "                                   n_estimators=100,\n",
    "                                   learning_rate=0.0005,\n",
    "                                   algorithm = 'SAMME',\n",
    "                                   random_state=1)"
   ]
  },
  {
   "cell_type": "code",
   "execution_count": 37,
   "id": "bc370c19",
   "metadata": {},
   "outputs": [
    {
     "data": {
      "text/plain": [
       "AdaBoostClassifier(algorithm='SAMME', base_estimator=DecisionTreeClassifier(),\n",
       "                   learning_rate=0.0005, n_estimators=100, random_state=1)"
      ]
     },
     "execution_count": 37,
     "metadata": {},
     "output_type": "execute_result"
    }
   ],
   "source": [
    "abc.fit(x_train, y_train)"
   ]
  },
  {
   "cell_type": "code",
   "execution_count": 38,
   "id": "ce6dfbdd",
   "metadata": {},
   "outputs": [],
   "source": [
    "pred = abc.predict(x_test)"
   ]
  },
  {
   "cell_type": "code",
   "execution_count": 39,
   "id": "ce48b849",
   "metadata": {},
   "outputs": [
    {
     "name": "stdout",
     "output_type": "stream",
     "text": [
      "0.9615384615384616\n"
     ]
    }
   ],
   "source": [
    "print(accuracy_score(pred,y_test))"
   ]
  },
  {
   "cell_type": "code",
   "execution_count": 40,
   "id": "5d7af7af",
   "metadata": {},
   "outputs": [
    {
     "name": "stdout",
     "output_type": "stream",
     "text": [
      "              precision    recall  f1-score   support\n",
      "\n",
      "           0       0.96      0.93      0.95        56\n",
      "           1       0.96      0.98      0.97       100\n",
      "\n",
      "    accuracy                           0.96       156\n",
      "   macro avg       0.96      0.95      0.96       156\n",
      "weighted avg       0.96      0.96      0.96       156\n",
      "\n"
     ]
    }
   ],
   "source": [
    "print(classification_report(pred, y_test))"
   ]
  },
  {
   "cell_type": "code",
   "execution_count": 41,
   "id": "60605c99",
   "metadata": {},
   "outputs": [
    {
     "data": {
      "text/plain": [
       "((364, 16), (364,))"
      ]
     },
     "execution_count": 41,
     "metadata": {},
     "output_type": "execute_result"
    }
   ],
   "source": [
    "x_train.shape, y_train.shape"
   ]
  },
  {
   "cell_type": "code",
   "execution_count": null,
   "id": "e7d9bf3f",
   "metadata": {},
   "outputs": [],
   "source": []
  },
  {
   "cell_type": "markdown",
   "id": "bfe4b17c",
   "metadata": {},
   "source": [
    "### Artificial Neural Network"
   ]
  },
  {
   "cell_type": "code",
   "execution_count": 42,
   "id": "000ab49e",
   "metadata": {},
   "outputs": [],
   "source": [
    "model = Sequential()\n",
    "model.add(Dense(12, input_shape=(x_train.shape), activation='relu'))\n",
    "model.add(Dense(8, activation='relu'))\n",
    "model.add(Dense(1, activation='sigmoid'))"
   ]
  },
  {
   "cell_type": "code",
   "execution_count": 43,
   "id": "c9e33516",
   "metadata": {},
   "outputs": [],
   "source": [
    "model.compile(loss='binary_crossentropy', optimizer='adam', metrics=['accuracy'])"
   ]
  },
  {
   "cell_type": "code",
   "execution_count": 44,
   "id": "67c146be",
   "metadata": {},
   "outputs": [
    {
     "name": "stdout",
     "output_type": "stream",
     "text": [
      "Epoch 1/200\n",
      "WARNING:tensorflow:Model was constructed with shape (None, 364, 16) for input KerasTensor(type_spec=TensorSpec(shape=(None, 364, 16), dtype=tf.float32, name='dense_input'), name='dense_input', description=\"created by layer 'dense_input'\"), but it was called on an input with incompatible shape (None, 16).\n",
      "WARNING:tensorflow:Model was constructed with shape (None, 364, 16) for input KerasTensor(type_spec=TensorSpec(shape=(None, 364, 16), dtype=tf.float32, name='dense_input'), name='dense_input', description=\"created by layer 'dense_input'\"), but it was called on an input with incompatible shape (None, 16).\n",
      "8/8 [==============================] - 0s 2ms/step - loss: 3.2857 - accuracy: 0.4011\n",
      "Epoch 2/200\n",
      "8/8 [==============================] - 0s 1ms/step - loss: 2.3849 - accuracy: 0.4011\n",
      "Epoch 3/200\n",
      "8/8 [==============================] - 0s 1ms/step - loss: 1.5285 - accuracy: 0.4011\n",
      "Epoch 4/200\n",
      "8/8 [==============================] - 0s 1ms/step - loss: 0.9149 - accuracy: 0.3956\n",
      "Epoch 5/200\n",
      "8/8 [==============================] - 0s 1ms/step - loss: 0.6948 - accuracy: 0.5522\n",
      "Epoch 6/200\n",
      "8/8 [==============================] - 0s 1ms/step - loss: 0.6898 - accuracy: 0.5989\n",
      "Epoch 7/200\n",
      "8/8 [==============================] - 0s 1ms/step - loss: 0.6941 - accuracy: 0.5989\n",
      "Epoch 8/200\n",
      "8/8 [==============================] - 0s 1ms/step - loss: 0.6741 - accuracy: 0.5989\n",
      "Epoch 9/200\n",
      "8/8 [==============================] - 0s 1ms/step - loss: 0.6609 - accuracy: 0.5934\n",
      "Epoch 10/200\n",
      "8/8 [==============================] - 0s 1ms/step - loss: 0.6576 - accuracy: 0.5934\n",
      "Epoch 11/200\n",
      "8/8 [==============================] - 0s 990us/step - loss: 0.6514 - accuracy: 0.5962\n",
      "Epoch 12/200\n",
      "8/8 [==============================] - 0s 1ms/step - loss: 0.6462 - accuracy: 0.6016\n",
      "Epoch 13/200\n",
      "8/8 [==============================] - 0s 1ms/step - loss: 0.6419 - accuracy: 0.6044\n",
      "Epoch 14/200\n",
      "8/8 [==============================] - 0s 1ms/step - loss: 0.6382 - accuracy: 0.6016\n",
      "Epoch 15/200\n",
      "8/8 [==============================] - 0s 1ms/step - loss: 0.6328 - accuracy: 0.6016\n",
      "Epoch 16/200\n",
      "8/8 [==============================] - 0s 1ms/step - loss: 0.6280 - accuracy: 0.6016\n",
      "Epoch 17/200\n",
      "8/8 [==============================] - 0s 1ms/step - loss: 0.6245 - accuracy: 0.6044\n",
      "Epoch 18/200\n",
      "8/8 [==============================] - 0s 2ms/step - loss: 0.6215 - accuracy: 0.6099\n",
      "Epoch 19/200\n",
      "8/8 [==============================] - 0s 1ms/step - loss: 0.6148 - accuracy: 0.6044\n",
      "Epoch 20/200\n",
      "8/8 [==============================] - 0s 832us/step - loss: 0.6122 - accuracy: 0.6099\n",
      "Epoch 21/200\n",
      "8/8 [==============================] - ETA: 0s - loss: 0.5900 - accuracy: 0.60 - 0s 1ms/step - loss: 0.6074 - accuracy: 0.6099\n",
      "Epoch 22/200\n",
      "8/8 [==============================] - 0s 1ms/step - loss: 0.6020 - accuracy: 0.6181\n",
      "Epoch 23/200\n",
      "8/8 [==============================] - 0s 1ms/step - loss: 0.5980 - accuracy: 0.6319\n",
      "Epoch 24/200\n",
      "8/8 [==============================] - 0s 1ms/step - loss: 0.5940 - accuracy: 0.7088\n",
      "Epoch 25/200\n",
      "8/8 [==============================] - 0s 2ms/step - loss: 0.5885 - accuracy: 0.7225\n",
      "Epoch 26/200\n",
      "8/8 [==============================] - 0s 1ms/step - loss: 0.5835 - accuracy: 0.6621\n",
      "Epoch 27/200\n",
      "8/8 [==============================] - 0s 1ms/step - loss: 0.5793 - accuracy: 0.6703\n",
      "Epoch 28/200\n",
      "8/8 [==============================] - 0s 2ms/step - loss: 0.5752 - accuracy: 0.7060\n",
      "Epoch 29/200\n",
      "8/8 [==============================] - 0s 1ms/step - loss: 0.5701 - accuracy: 0.7198\n",
      "Epoch 30/200\n",
      "8/8 [==============================] - 0s 1ms/step - loss: 0.5653 - accuracy: 0.7225\n",
      "Epoch 31/200\n",
      "8/8 [==============================] - 0s 2ms/step - loss: 0.5608 - accuracy: 0.7390\n",
      "Epoch 32/200\n",
      "8/8 [==============================] - 0s 2ms/step - loss: 0.5566 - accuracy: 0.7555\n",
      "Epoch 33/200\n",
      "8/8 [==============================] - 0s 2ms/step - loss: 0.5523 - accuracy: 0.7555\n",
      "Epoch 34/200\n",
      "8/8 [==============================] - 0s 1ms/step - loss: 0.5474 - accuracy: 0.7390\n",
      "Epoch 35/200\n",
      "8/8 [==============================] - 0s 2ms/step - loss: 0.5423 - accuracy: 0.7445\n",
      "Epoch 36/200\n",
      "8/8 [==============================] - 0s 1ms/step - loss: 0.5376 - accuracy: 0.7555\n",
      "Epoch 37/200\n",
      "8/8 [==============================] - 0s 1ms/step - loss: 0.5338 - accuracy: 0.7720\n",
      "Epoch 38/200\n",
      "8/8 [==============================] - 0s 1ms/step - loss: 0.5283 - accuracy: 0.7747\n",
      "Epoch 39/200\n",
      "8/8 [==============================] - 0s 931us/step - loss: 0.5240 - accuracy: 0.7912\n",
      "Epoch 40/200\n",
      "8/8 [==============================] - 0s 1ms/step - loss: 0.5185 - accuracy: 0.7885\n",
      "Epoch 41/200\n",
      "8/8 [==============================] - 0s 1ms/step - loss: 0.5140 - accuracy: 0.8159\n",
      "Epoch 42/200\n",
      "8/8 [==============================] - 0s 2ms/step - loss: 0.5090 - accuracy: 0.7830\n",
      "Epoch 43/200\n",
      "8/8 [==============================] - 0s 2ms/step - loss: 0.5046 - accuracy: 0.7830\n",
      "Epoch 44/200\n",
      "8/8 [==============================] - 0s 2ms/step - loss: 0.4995 - accuracy: 0.8269\n",
      "Epoch 45/200\n",
      "8/8 [==============================] - 0s 2ms/step - loss: 0.4943 - accuracy: 0.8407\n",
      "Epoch 46/200\n",
      "8/8 [==============================] - 0s 2ms/step - loss: 0.4894 - accuracy: 0.8846\n",
      "Epoch 47/200\n",
      "8/8 [==============================] - 0s 2ms/step - loss: 0.4853 - accuracy: 0.8599\n",
      "Epoch 48/200\n",
      "8/8 [==============================] - 0s 2ms/step - loss: 0.4792 - accuracy: 0.8681\n",
      "Epoch 49/200\n",
      "8/8 [==============================] - 0s 2ms/step - loss: 0.4742 - accuracy: 0.8956\n",
      "Epoch 50/200\n",
      "8/8 [==============================] - 0s 2ms/step - loss: 0.4693 - accuracy: 0.8874\n",
      "Epoch 51/200\n",
      "8/8 [==============================] - 0s 2ms/step - loss: 0.4659 - accuracy: 0.8929\n",
      "Epoch 52/200\n",
      "8/8 [==============================] - 0s 579us/step - loss: 0.4592 - accuracy: 0.8956\n",
      "Epoch 53/200\n",
      "8/8 [==============================] - 0s 935us/step - loss: 0.4568 - accuracy: 0.8242\n",
      "Epoch 54/200\n",
      "8/8 [==============================] - 0s 1ms/step - loss: 0.4510 - accuracy: 0.8819\n",
      "Epoch 55/200\n",
      "8/8 [==============================] - 0s 1ms/step - loss: 0.4449 - accuracy: 0.8956\n",
      "Epoch 56/200\n",
      "8/8 [==============================] - 0s 1ms/step - loss: 0.4397 - accuracy: 0.8901\n",
      "Epoch 57/200\n",
      "8/8 [==============================] - 0s 1ms/step - loss: 0.4335 - accuracy: 0.8929\n",
      "Epoch 58/200\n",
      "8/8 [==============================] - 0s 946us/step - loss: 0.4284 - accuracy: 0.8956\n",
      "Epoch 59/200\n",
      "8/8 [==============================] - 0s 991us/step - loss: 0.4230 - accuracy: 0.8984\n",
      "Epoch 60/200\n",
      "8/8 [==============================] - 0s 918us/step - loss: 0.4176 - accuracy: 0.8929\n",
      "Epoch 61/200\n",
      "8/8 [==============================] - 0s 1ms/step - loss: 0.4132 - accuracy: 0.8984\n",
      "Epoch 62/200\n",
      "8/8 [==============================] - 0s 1ms/step - loss: 0.4095 - accuracy: 0.8929\n",
      "Epoch 63/200\n",
      "8/8 [==============================] - 0s 822us/step - loss: 0.4023 - accuracy: 0.8956\n",
      "Epoch 64/200\n",
      "8/8 [==============================] - 0s 1ms/step - loss: 0.3995 - accuracy: 0.8956\n",
      "Epoch 65/200\n",
      "8/8 [==============================] - 0s 905us/step - loss: 0.3922 - accuracy: 0.8956\n",
      "Epoch 66/200\n",
      "8/8 [==============================] - 0s 1ms/step - loss: 0.3881 - accuracy: 0.9038\n",
      "Epoch 67/200\n",
      "8/8 [==============================] - 0s 2ms/step - loss: 0.3816 - accuracy: 0.9038\n",
      "Epoch 68/200\n",
      "8/8 [==============================] - 0s 1ms/step - loss: 0.3768 - accuracy: 0.9038\n",
      "Epoch 69/200\n",
      "8/8 [==============================] - 0s 579us/step - loss: 0.3719 - accuracy: 0.9066\n",
      "Epoch 70/200\n",
      "8/8 [==============================] - 0s 1ms/step - loss: 0.3660 - accuracy: 0.9066\n",
      "Epoch 71/200\n",
      "8/8 [==============================] - 0s 1ms/step - loss: 0.3614 - accuracy: 0.9011\n",
      "Epoch 72/200\n",
      "8/8 [==============================] - 0s 1ms/step - loss: 0.3576 - accuracy: 0.8956\n",
      "Epoch 73/200\n",
      "8/8 [==============================] - 0s 563us/step - loss: 0.3511 - accuracy: 0.9066\n",
      "Epoch 74/200\n",
      "8/8 [==============================] - 0s 1ms/step - loss: 0.3467 - accuracy: 0.9011\n",
      "Epoch 75/200\n",
      "8/8 [==============================] - 0s 1ms/step - loss: 0.3433 - accuracy: 0.9038\n",
      "Epoch 76/200\n",
      "8/8 [==============================] - 0s 1ms/step - loss: 0.3412 - accuracy: 0.9011\n",
      "Epoch 77/200\n",
      "8/8 [==============================] - 0s 579us/step - loss: 0.3327 - accuracy: 0.8956\n",
      "Epoch 78/200\n",
      "8/8 [==============================] - 0s 1ms/step - loss: 0.3306 - accuracy: 0.9011\n",
      "Epoch 79/200\n",
      "8/8 [==============================] - 0s 1ms/step - loss: 0.3261 - accuracy: 0.9038\n",
      "Epoch 80/200\n",
      "8/8 [==============================] - 0s 1ms/step - loss: 0.3203 - accuracy: 0.9038\n",
      "Epoch 81/200\n",
      "8/8 [==============================] - 0s 686us/step - loss: 0.3214 - accuracy: 0.8984\n",
      "Epoch 82/200\n",
      "8/8 [==============================] - 0s 842us/step - loss: 0.3121 - accuracy: 0.9038\n",
      "Epoch 83/200\n",
      "8/8 [==============================] - 0s 1ms/step - loss: 0.3137 - accuracy: 0.9038\n",
      "Epoch 84/200\n",
      "8/8 [==============================] - 0s 1ms/step - loss: 0.3083 - accuracy: 0.8984\n",
      "Epoch 85/200\n",
      "8/8 [==============================] - 0s 757us/step - loss: 0.3003 - accuracy: 0.9121\n",
      "Epoch 86/200\n",
      "8/8 [==============================] - 0s 849us/step - loss: 0.3016 - accuracy: 0.9038\n",
      "Epoch 87/200\n",
      "8/8 [==============================] - 0s 1ms/step - loss: 0.2992 - accuracy: 0.9038\n",
      "Epoch 88/200\n",
      "8/8 [==============================] - 0s 1ms/step - loss: 0.2914 - accuracy: 0.9066\n",
      "Epoch 89/200\n",
      "8/8 [==============================] - 0s 799us/step - loss: 0.2893 - accuracy: 0.9121\n",
      "Epoch 90/200\n",
      "8/8 [==============================] - 0s 1ms/step - loss: 0.2854 - accuracy: 0.9093\n",
      "Epoch 91/200\n",
      "8/8 [==============================] - 0s 1ms/step - loss: 0.2842 - accuracy: 0.9093\n",
      "Epoch 92/200\n",
      "8/8 [==============================] - 0s 2ms/step - loss: 0.2826 - accuracy: 0.9066\n",
      "Epoch 93/200\n",
      "8/8 [==============================] - 0s 1ms/step - loss: 0.2787 - accuracy: 0.9038\n",
      "Epoch 94/200\n",
      "8/8 [==============================] - 0s 820us/step - loss: 0.2735 - accuracy: 0.9121\n",
      "Epoch 95/200\n",
      "8/8 [==============================] - 0s 1ms/step - loss: 0.2729 - accuracy: 0.9121\n",
      "Epoch 96/200\n",
      "8/8 [==============================] - 0s 1ms/step - loss: 0.2703 - accuracy: 0.9121\n",
      "Epoch 97/200\n",
      "8/8 [==============================] - 0s 738us/step - loss: 0.2664 - accuracy: 0.9093\n",
      "Epoch 98/200\n",
      "8/8 [==============================] - 0s 493us/step - loss: 0.2651 - accuracy: 0.9093\n",
      "Epoch 99/200\n",
      "8/8 [==============================] - 0s 1ms/step - loss: 0.2619 - accuracy: 0.9121\n",
      "Epoch 100/200\n",
      "8/8 [==============================] - ETA: 0s - loss: 0.2238 - accuracy: 0.94 - 0s 1ms/step - loss: 0.2598 - accuracy: 0.9121\n",
      "Epoch 101/200\n",
      "8/8 [==============================] - 0s 722us/step - loss: 0.2578 - accuracy: 0.9121\n",
      "Epoch 102/200\n",
      "8/8 [==============================] - 0s 3ms/step - loss: 0.2556 - accuracy: 0.9121\n",
      "Epoch 103/200\n",
      "8/8 [==============================] - 0s 2ms/step - loss: 0.2526 - accuracy: 0.9121\n",
      "Epoch 104/200\n",
      "8/8 [==============================] - 0s 2ms/step - loss: 0.2509 - accuracy: 0.9148\n",
      "Epoch 105/200\n",
      "8/8 [==============================] - 0s 702us/step - loss: 0.2488 - accuracy: 0.9148\n",
      "Epoch 106/200\n",
      "8/8 [==============================] - 0s 960us/step - loss: 0.2489 - accuracy: 0.9093\n",
      "Epoch 107/200\n",
      "8/8 [==============================] - 0s 1ms/step - loss: 0.2456 - accuracy: 0.9148\n",
      "Epoch 108/200\n",
      "8/8 [==============================] - 0s 1ms/step - loss: 0.2437 - accuracy: 0.9121\n",
      "Epoch 109/200\n",
      "8/8 [==============================] - 0s 796us/step - loss: 0.2420 - accuracy: 0.9121\n",
      "Epoch 110/200\n",
      "8/8 [==============================] - 0s 1ms/step - loss: 0.2407 - accuracy: 0.9121\n",
      "Epoch 111/200\n",
      "8/8 [==============================] - 0s 1ms/step - loss: 0.2425 - accuracy: 0.9148\n",
      "Epoch 112/200\n",
      "8/8 [==============================] - 0s 1ms/step - loss: 0.2392 - accuracy: 0.9121\n",
      "Epoch 113/200\n",
      "8/8 [==============================] - 0s 756us/step - loss: 0.2396 - accuracy: 0.9121\n",
      "Epoch 114/200\n",
      "8/8 [==============================] - 0s 1ms/step - loss: 0.2354 - accuracy: 0.9176\n",
      "Epoch 115/200\n",
      "8/8 [==============================] - 0s 1ms/step - loss: 0.2330 - accuracy: 0.9203\n",
      "Epoch 116/200\n",
      "8/8 [==============================] - 0s 1ms/step - loss: 0.2326 - accuracy: 0.9231\n",
      "Epoch 117/200\n",
      "8/8 [==============================] - 0s 903us/step - loss: 0.2359 - accuracy: 0.9148\n",
      "Epoch 118/200\n",
      "8/8 [==============================] - 0s 1ms/step - loss: 0.2284 - accuracy: 0.9203\n",
      "Epoch 119/200\n",
      "8/8 [==============================] - 0s 1ms/step - loss: 0.2315 - accuracy: 0.9176\n",
      "Epoch 120/200\n",
      "8/8 [==============================] - 0s 768us/step - loss: 0.2265 - accuracy: 0.9176\n",
      "Epoch 121/200\n",
      "8/8 [==============================] - 0s 980us/step - loss: 0.2267 - accuracy: 0.9231\n",
      "Epoch 122/200\n",
      "8/8 [==============================] - 0s 1ms/step - loss: 0.2314 - accuracy: 0.9093\n",
      "Epoch 123/200\n",
      "8/8 [==============================] - 0s 1ms/step - loss: 0.2223 - accuracy: 0.9258\n",
      "Epoch 124/200\n",
      "8/8 [==============================] - 0s 831us/step - loss: 0.2235 - accuracy: 0.9286\n",
      "Epoch 125/200\n",
      "8/8 [==============================] - 0s 958us/step - loss: 0.2216 - accuracy: 0.9203\n",
      "Epoch 126/200\n",
      "8/8 [==============================] - 0s 1ms/step - loss: 0.2208 - accuracy: 0.9313\n",
      "Epoch 127/200\n",
      "8/8 [==============================] - 0s 943us/step - loss: 0.2196 - accuracy: 0.9258\n",
      "Epoch 128/200\n",
      "8/8 [==============================] - 0s 280us/step - loss: 0.2178 - accuracy: 0.9231\n",
      "Epoch 129/200\n",
      "8/8 [==============================] - 0s 889us/step - loss: 0.2179 - accuracy: 0.9203\n",
      "Epoch 130/200\n",
      "8/8 [==============================] - 0s 1ms/step - loss: 0.2168 - accuracy: 0.9121\n",
      "Epoch 131/200\n",
      "8/8 [==============================] - 0s 1ms/step - loss: 0.2151 - accuracy: 0.9286\n",
      "Epoch 132/200\n",
      "8/8 [==============================] - 0s 866us/step - loss: 0.2142 - accuracy: 0.9286\n",
      "Epoch 133/200\n",
      "8/8 [==============================] - 0s 1ms/step - loss: 0.2141 - accuracy: 0.9121\n",
      "Epoch 134/200\n",
      "8/8 [==============================] - 0s 1ms/step - loss: 0.2125 - accuracy: 0.9231\n",
      "Epoch 135/200\n",
      "8/8 [==============================] - 0s 760us/step - loss: 0.2125 - accuracy: 0.9286\n",
      "Epoch 136/200\n",
      "8/8 [==============================] - 0s 1ms/step - loss: 0.2112 - accuracy: 0.9203\n",
      "Epoch 137/200\n",
      "8/8 [==============================] - 0s 1ms/step - loss: 0.2110 - accuracy: 0.9148\n",
      "Epoch 138/200\n",
      "8/8 [==============================] - 0s 1ms/step - loss: 0.2096 - accuracy: 0.9148\n",
      "Epoch 139/200\n",
      "8/8 [==============================] - 0s 493us/step - loss: 0.2119 - accuracy: 0.9258\n",
      "Epoch 140/200\n",
      "8/8 [==============================] - 0s 823us/step - loss: 0.2105 - accuracy: 0.9286\n",
      "Epoch 141/200\n",
      "8/8 [==============================] - 0s 999us/step - loss: 0.2076 - accuracy: 0.9286\n",
      "Epoch 142/200\n",
      "8/8 [==============================] - 0s 1ms/step - loss: 0.2076 - accuracy: 0.9286\n",
      "Epoch 143/200\n",
      "8/8 [==============================] - 0s 771us/step - loss: 0.2059 - accuracy: 0.9286\n",
      "Epoch 144/200\n",
      "8/8 [==============================] - 0s 1ms/step - loss: 0.2072 - accuracy: 0.9176\n",
      "Epoch 145/200\n",
      "8/8 [==============================] - 0s 1ms/step - loss: 0.2052 - accuracy: 0.9258\n",
      "Epoch 146/200\n",
      "8/8 [==============================] - 0s 989us/step - loss: 0.2050 - accuracy: 0.9313\n",
      "Epoch 147/200\n",
      "8/8 [==============================] - 0s 888us/step - loss: 0.2040 - accuracy: 0.9148\n",
      "Epoch 148/200\n",
      "8/8 [==============================] - 0s 1ms/step - loss: 0.2036 - accuracy: 0.9203\n",
      "Epoch 149/200\n",
      "8/8 [==============================] - 0s 1ms/step - loss: 0.2068 - accuracy: 0.9258\n",
      "Epoch 150/200\n",
      "8/8 [==============================] - 0s 1ms/step - loss: 0.2018 - accuracy: 0.9313\n",
      "Epoch 151/200\n",
      "8/8 [==============================] - 0s 945us/step - loss: 0.2027 - accuracy: 0.9121\n",
      "Epoch 152/200\n",
      "8/8 [==============================] - 0s 1ms/step - loss: 0.2014 - accuracy: 0.9313\n",
      "Epoch 153/200\n",
      "8/8 [==============================] - 0s 1ms/step - loss: 0.2034 - accuracy: 0.9148\n",
      "Epoch 154/200\n",
      "8/8 [==============================] - 0s 1ms/step - loss: 0.2028 - accuracy: 0.9148\n",
      "Epoch 155/200\n",
      "8/8 [==============================] - 0s 709us/step - loss: 0.1999 - accuracy: 0.9313\n",
      "Epoch 156/200\n",
      "8/8 [==============================] - 0s 1ms/step - loss: 0.2015 - accuracy: 0.9286\n",
      "Epoch 157/200\n",
      "8/8 [==============================] - 0s 1ms/step - loss: 0.1998 - accuracy: 0.9148\n",
      "Epoch 158/200\n",
      "8/8 [==============================] - 0s 625us/step - loss: 0.2008 - accuracy: 0.9313\n",
      "Epoch 159/200\n"
     ]
    },
    {
     "name": "stdout",
     "output_type": "stream",
     "text": [
      "8/8 [==============================] - 0s 891us/step - loss: 0.1987 - accuracy: 0.9203\n",
      "Epoch 160/200\n",
      "8/8 [==============================] - 0s 1ms/step - loss: 0.1992 - accuracy: 0.9148\n",
      "Epoch 161/200\n",
      "8/8 [==============================] - 0s 2ms/step - loss: 0.1986 - accuracy: 0.9286\n",
      "Epoch 162/200\n",
      "8/8 [==============================] - 0s 853us/step - loss: 0.1967 - accuracy: 0.9286\n",
      "Epoch 163/200\n",
      "8/8 [==============================] - 0s 805us/step - loss: 0.1977 - accuracy: 0.9148\n",
      "Epoch 164/200\n",
      "8/8 [==============================] - 0s 1ms/step - loss: 0.1970 - accuracy: 0.9148\n",
      "Epoch 165/200\n",
      "8/8 [==============================] - 0s 1ms/step - loss: 0.1956 - accuracy: 0.9258\n",
      "Epoch 166/200\n",
      "8/8 [==============================] - 0s 1ms/step - loss: 0.1952 - accuracy: 0.9286\n",
      "Epoch 167/200\n",
      "8/8 [==============================] - 0s 851us/step - loss: 0.1952 - accuracy: 0.9231\n",
      "Epoch 168/200\n",
      "8/8 [==============================] - 0s 1ms/step - loss: 0.1955 - accuracy: 0.9258\n",
      "Epoch 169/200\n",
      "8/8 [==============================] - 0s 1ms/step - loss: 0.1980 - accuracy: 0.9203\n",
      "Epoch 170/200\n",
      "8/8 [==============================] - 0s 1ms/step - loss: 0.1942 - accuracy: 0.9258\n",
      "Epoch 171/200\n",
      "8/8 [==============================] - 0s 689us/step - loss: 0.1950 - accuracy: 0.9231\n",
      "Epoch 172/200\n",
      "8/8 [==============================] - 0s 1ms/step - loss: 0.1962 - accuracy: 0.9203\n",
      "Epoch 173/200\n",
      "8/8 [==============================] - 0s 1ms/step - loss: 0.1960 - accuracy: 0.9176\n",
      "Epoch 174/200\n",
      "8/8 [==============================] - 0s 694us/step - loss: 0.1931 - accuracy: 0.9203\n",
      "Epoch 175/200\n",
      "8/8 [==============================] - 0s 489us/step - loss: 0.1947 - accuracy: 0.9258\n",
      "Epoch 176/200\n",
      "8/8 [==============================] - 0s 1ms/step - loss: 0.1922 - accuracy: 0.9258\n",
      "Epoch 177/200\n",
      "8/8 [==============================] - 0s 1ms/step - loss: 0.1927 - accuracy: 0.9313\n",
      "Epoch 178/200\n",
      "8/8 [==============================] - 0s 783us/step - loss: 0.1921 - accuracy: 0.9203\n",
      "Epoch 179/200\n",
      "8/8 [==============================] - 0s 1ms/step - loss: 0.1914 - accuracy: 0.9231\n",
      "Epoch 180/200\n",
      "8/8 [==============================] - 0s 1ms/step - loss: 0.1913 - accuracy: 0.9258\n",
      "Epoch 181/200\n",
      "8/8 [==============================] - 0s 1ms/step - loss: 0.1935 - accuracy: 0.9258\n",
      "Epoch 182/200\n",
      "8/8 [==============================] - 0s 734us/step - loss: 0.1898 - accuracy: 0.9313\n",
      "Epoch 183/200\n",
      "8/8 [==============================] - 0s 878us/step - loss: 0.1905 - accuracy: 0.9176\n",
      "Epoch 184/200\n",
      "8/8 [==============================] - 0s 1ms/step - loss: 0.1903 - accuracy: 0.9258\n",
      "Epoch 185/200\n",
      "8/8 [==============================] - 0s 2ms/step - loss: 0.1891 - accuracy: 0.9313\n",
      "Epoch 186/200\n",
      "8/8 [==============================] - 0s 838us/step - loss: 0.1890 - accuracy: 0.9313\n",
      "Epoch 187/200\n",
      "8/8 [==============================] - 0s 889us/step - loss: 0.1879 - accuracy: 0.9313\n",
      "Epoch 188/200\n",
      "8/8 [==============================] - 0s 1ms/step - loss: 0.1884 - accuracy: 0.9286\n",
      "Epoch 189/200\n",
      "8/8 [==============================] - 0s 1ms/step - loss: 0.1877 - accuracy: 0.9313\n",
      "Epoch 190/200\n",
      "8/8 [==============================] - 0s 1ms/step - loss: 0.1902 - accuracy: 0.9231\n",
      "Epoch 191/200\n",
      "8/8 [==============================] - 0s 1ms/step - loss: 0.1930 - accuracy: 0.9203\n",
      "Epoch 192/200\n",
      "8/8 [==============================] - 0s 3ms/step - loss: 0.1894 - accuracy: 0.9231\n",
      "Epoch 193/200\n",
      "8/8 [==============================] - 0s 2ms/step - loss: 0.1880 - accuracy: 0.9258\n",
      "Epoch 194/200\n",
      "8/8 [==============================] - 0s 2ms/step - loss: 0.1892 - accuracy: 0.9203\n",
      "Epoch 195/200\n",
      "8/8 [==============================] - 0s 1ms/step - loss: 0.1911 - accuracy: 0.9203\n",
      "Epoch 196/200\n",
      "8/8 [==============================] - 0s 793us/step - loss: 0.1955 - accuracy: 0.9231\n",
      "Epoch 197/200\n",
      "8/8 [==============================] - 0s 1ms/step - loss: 0.1923 - accuracy: 0.9203\n",
      "Epoch 198/200\n",
      "8/8 [==============================] - 0s 1ms/step - loss: 0.1850 - accuracy: 0.9258\n",
      "Epoch 199/200\n",
      "8/8 [==============================] - 0s 1ms/step - loss: 0.1897 - accuracy: 0.9176\n",
      "Epoch 200/200\n",
      "8/8 [==============================] - 0s 1ms/step - loss: 0.1862 - accuracy: 0.9286\n"
     ]
    },
    {
     "data": {
      "text/plain": [
       "<keras.callbacks.History at 0x156b73dcf98>"
      ]
     },
     "execution_count": 44,
     "metadata": {},
     "output_type": "execute_result"
    }
   ],
   "source": [
    "model.fit(x_train, y_train, epochs=200, batch_size=50)"
   ]
  },
  {
   "cell_type": "code",
   "execution_count": 45,
   "id": "4d6c8a70",
   "metadata": {},
   "outputs": [],
   "source": [
    "model.save('ANN.h5')"
   ]
  },
  {
   "cell_type": "code",
   "execution_count": 46,
   "id": "712b63d0",
   "metadata": {},
   "outputs": [
    {
     "name": "stdout",
     "output_type": "stream",
     "text": [
      "WARNING:tensorflow:Model was constructed with shape (None, 364, 16) for input KerasTensor(type_spec=TensorSpec(shape=(None, 364, 16), dtype=tf.float32, name='dense_input'), name='dense_input', description=\"created by layer 'dense_input'\"), but it was called on an input with incompatible shape (None, 16).\n"
     ]
    }
   ],
   "source": [
    "predictions = model.predict(x_test)"
   ]
  },
  {
   "cell_type": "code",
   "execution_count": 47,
   "id": "4e1376eb",
   "metadata": {},
   "outputs": [
    {
     "name": "stdout",
     "output_type": "stream",
     "text": [
      "WARNING:tensorflow:Model was constructed with shape (None, 364, 16) for input KerasTensor(type_spec=TensorSpec(shape=(None, 364, 16), dtype=tf.float32, name='dense_input'), name='dense_input', description=\"created by layer 'dense_input'\"), but it was called on an input with incompatible shape (None, 16).\n",
      "5/5 [==============================] - 0s 4ms/step - loss: 0.1899 - accuracy: 0.9423\n"
     ]
    }
   ],
   "source": [
    "acc= model.evaluate(x_test, y_test)"
   ]
  },
  {
   "cell_type": "code",
   "execution_count": 48,
   "id": "bf621ab3",
   "metadata": {},
   "outputs": [
    {
     "name": "stdout",
     "output_type": "stream",
     "text": [
      "Accuracy of Artificial Neural Network is: 94.23%\n"
     ]
    }
   ],
   "source": [
    "print(\"Accuracy of Artificial Neural Network is: \"+ str(round(acc[1]*100, 2)) + str('%'))"
   ]
  },
  {
   "cell_type": "code",
   "execution_count": null,
   "id": "fe20202f",
   "metadata": {},
   "outputs": [],
   "source": []
  },
  {
   "cell_type": "code",
   "execution_count": null,
   "id": "ac1bd85c",
   "metadata": {},
   "outputs": [],
   "source": []
  }
 ],
 "metadata": {
  "kernelspec": {
   "display_name": "Python 3",
   "language": "python",
   "name": "python3"
  },
  "language_info": {
   "codemirror_mode": {
    "name": "ipython",
    "version": 3
   },
   "file_extension": ".py",
   "mimetype": "text/x-python",
   "name": "python",
   "nbconvert_exporter": "python",
   "pygments_lexer": "ipython3",
   "version": "3.6.8"
  }
 },
 "nbformat": 4,
 "nbformat_minor": 5
}
